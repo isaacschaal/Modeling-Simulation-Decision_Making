{
 "cells": [
  {
   "cell_type": "code",
   "execution_count": 19,
   "metadata": {
    "collapsed": false
   },
   "outputs": [
    {
     "name": "stderr",
     "output_type": "stream",
     "text": [
      "/Users/Isaac/anaconda/lib/python2.7/site-packages/ipykernel/__main__.py:9: UserWarning: \n",
      "This call to matplotlib.use() has no effect because the backend has already\n",
      "been chosen; matplotlib.use() must be called *before* pylab, matplotlib.pyplot,\n",
      "or matplotlib.backends is imported for the first time.\n",
      "\n",
      "The backend was *originally* set to 'module://ipykernel.pylab.backend_inline' by the following code:\n",
      "  File \"/Users/Isaac/anaconda/lib/python2.7/runpy.py\", line 174, in _run_module_as_main\n",
      "    \"__main__\", fname, loader, pkg_name)\n",
      "  File \"/Users/Isaac/anaconda/lib/python2.7/runpy.py\", line 72, in _run_code\n",
      "    exec code in run_globals\n",
      "  File \"/Users/Isaac/anaconda/lib/python2.7/site-packages/ipykernel/__main__.py\", line 3, in <module>\n",
      "    app.launch_new_instance()\n",
      "  File \"/Users/Isaac/anaconda/lib/python2.7/site-packages/traitlets/config/application.py\", line 596, in launch_instance\n",
      "    app.start()\n",
      "  File \"/Users/Isaac/anaconda/lib/python2.7/site-packages/ipykernel/kernelapp.py\", line 442, in start\n",
      "    ioloop.IOLoop.instance().start()\n",
      "  File \"/Users/Isaac/anaconda/lib/python2.7/site-packages/zmq/eventloop/ioloop.py\", line 162, in start\n",
      "    super(ZMQIOLoop, self).start()\n",
      "  File \"/Users/Isaac/anaconda/lib/python2.7/site-packages/tornado/ioloop.py\", line 827, in start\n",
      "    self._run_callback(callback)\n",
      "  File \"/Users/Isaac/anaconda/lib/python2.7/site-packages/tornado/ioloop.py\", line 600, in _run_callback\n",
      "    ret = callback()\n",
      "  File \"/Users/Isaac/anaconda/lib/python2.7/site-packages/tornado/stack_context.py\", line 275, in null_wrapper\n",
      "    return fn(*args, **kwargs)\n",
      "  File \"/Users/Isaac/anaconda/lib/python2.7/site-packages/ipykernel/kernelbase.py\", line 258, in enter_eventloop\n",
      "    self.eventloop(self)\n",
      "  File \"/Users/Isaac/anaconda/lib/python2.7/site-packages/ipykernel/eventloops.py\", line 164, in loop_tk\n",
      "    kernel.timer.start()\n",
      "  File \"/Users/Isaac/anaconda/lib/python2.7/site-packages/ipykernel/eventloops.py\", line 161, in start\n",
      "    self.app.mainloop()\n",
      "  File \"/Users/Isaac/anaconda/lib/python2.7/lib-tk/Tkinter.py\", line 1125, in mainloop\n",
      "    self.tk.mainloop(n)\n",
      "  File \"/Users/Isaac/anaconda/lib/python2.7/lib-tk/Tkinter.py\", line 1537, in __call__\n",
      "    return self.func(*args)\n",
      "  File \"/Users/Isaac/anaconda/lib/python2.7/lib-tk/Tkinter.py\", line 587, in callit\n",
      "    func(*args)\n",
      "  File \"/Users/Isaac/anaconda/lib/python2.7/site-packages/ipykernel/eventloops.py\", line 156, in on_timer\n",
      "    self.func()\n",
      "  File \"/Users/Isaac/anaconda/lib/python2.7/site-packages/ipykernel/kernelbase.py\", line 291, in do_one_iteration\n",
      "    stream.flush(zmq.POLLIN, 1)\n",
      "  File \"/Users/Isaac/anaconda/lib/python2.7/site-packages/zmq/eventloop/zmqstream.py\", line 352, in flush\n",
      "    self._handle_recv()\n",
      "  File \"/Users/Isaac/anaconda/lib/python2.7/site-packages/zmq/eventloop/zmqstream.py\", line 472, in _handle_recv\n",
      "    self._run_callback(callback, msg)\n",
      "  File \"/Users/Isaac/anaconda/lib/python2.7/site-packages/zmq/eventloop/zmqstream.py\", line 414, in _run_callback\n",
      "    callback(*args, **kwargs)\n",
      "  File \"/Users/Isaac/anaconda/lib/python2.7/site-packages/tornado/stack_context.py\", line 275, in null_wrapper\n",
      "    return fn(*args, **kwargs)\n",
      "  File \"/Users/Isaac/anaconda/lib/python2.7/site-packages/ipykernel/kernelbase.py\", line 276, in dispatcher\n",
      "    return self.dispatch_shell(stream, msg)\n",
      "  File \"/Users/Isaac/anaconda/lib/python2.7/site-packages/ipykernel/kernelbase.py\", line 228, in dispatch_shell\n",
      "    handler(stream, idents, msg)\n",
      "  File \"/Users/Isaac/anaconda/lib/python2.7/site-packages/ipykernel/kernelbase.py\", line 391, in execute_request\n",
      "    user_expressions, allow_stdin)\n",
      "  File \"/Users/Isaac/anaconda/lib/python2.7/site-packages/ipykernel/ipkernel.py\", line 199, in do_execute\n",
      "    shell.run_cell(code, store_history=store_history, silent=silent)\n",
      "  File \"/Users/Isaac/anaconda/lib/python2.7/site-packages/IPython/core/interactiveshell.py\", line 2723, in run_cell\n",
      "    interactivity=interactivity, compiler=compiler, result=result)\n",
      "  File \"/Users/Isaac/anaconda/lib/python2.7/site-packages/IPython/core/interactiveshell.py\", line 2825, in run_ast_nodes\n",
      "    if self.run_code(code, result):\n",
      "  File \"/Users/Isaac/anaconda/lib/python2.7/site-packages/IPython/core/interactiveshell.py\", line 2885, in run_code\n",
      "    exec(code_obj, self.user_global_ns, self.user_ns)\n",
      "  File \"<ipython-input-16-efa60f7e16ec>\", line 1, in <module>\n",
      "    get_ipython().magic(u'matplotlib inline')\n",
      "  File \"/Users/Isaac/anaconda/lib/python2.7/site-packages/IPython/core/interactiveshell.py\", line 2163, in magic\n",
      "    return self.run_line_magic(magic_name, magic_arg_s)\n",
      "  File \"/Users/Isaac/anaconda/lib/python2.7/site-packages/IPython/core/interactiveshell.py\", line 2084, in run_line_magic\n",
      "    result = fn(*args,**kwargs)\n",
      "  File \"<decorator-gen-106>\", line 2, in matplotlib\n",
      "  File \"/Users/Isaac/anaconda/lib/python2.7/site-packages/IPython/core/magic.py\", line 193, in <lambda>\n",
      "    call = lambda f, *a, **k: f(*a, **k)\n",
      "  File \"/Users/Isaac/anaconda/lib/python2.7/site-packages/IPython/core/magics/pylab.py\", line 100, in matplotlib\n",
      "    gui, backend = self.shell.enable_matplotlib(args.gui)\n",
      "  File \"/Users/Isaac/anaconda/lib/python2.7/site-packages/IPython/core/interactiveshell.py\", line 2951, in enable_matplotlib\n",
      "    pt.activate_matplotlib(backend)\n",
      "  File \"/Users/Isaac/anaconda/lib/python2.7/site-packages/IPython/core/pylabtools.py\", line 296, in activate_matplotlib\n",
      "    matplotlib.pyplot.switch_backend(backend)\n",
      "  File \"/Users/Isaac/anaconda/lib/python2.7/site-packages/matplotlib/pyplot.py\", line 232, in switch_backend\n",
      "    matplotlib.use(newbackend, warn=False, force=True)\n",
      "  File \"/Users/Isaac/anaconda/lib/python2.7/site-packages/matplotlib/__init__.py\", line 1305, in use\n",
      "    reload(sys.modules['matplotlib.backends'])\n",
      "  File \"/Users/Isaac/anaconda/lib/python2.7/site-packages/matplotlib/backends/__init__.py\", line 14, in <module>\n",
      "    line for line in traceback.format_stack()\n",
      "\n",
      "\n"
     ]
    },
    {
     "name": "stdout",
     "output_type": "stream",
     "text": [
      "complete!\n",
      "complete!\n",
      "complete!\n",
      "complete!\n",
      "complete!\n",
      "complete!\n",
      "complete!\n",
      "complete!\n",
      "complete!\n",
      "complete!\n",
      "complete!\n",
      "Done!\n"
     ]
    }
   ],
   "source": [
    "# Simple CA simulator in Python\n",
    "#\n",
    "# *** Forest fire ***\n",
    "#\n",
    "# Copyright 2008-2012 Hiroki Sayama\n",
    "# sayama@binghamton.edu\n",
    "\n",
    "import matplotlib\n",
    "matplotlib.use('TkAgg')\n",
    "\n",
    "import pylab as PL\n",
    "import random as RD\n",
    "import scipy as SP\n",
    "import numpy\n",
    "\n",
    "RD.seed()\n",
    "\n",
    "width = 100\n",
    "height = 100\n",
    "empty, tree, fire, char = xrange(4)\n",
    "\n",
    "def init():\n",
    "    global time, config, nextConfig\n",
    "\n",
    "    time = 0\n",
    "\n",
    "    config = SP.zeros([height, width])\n",
    "    for x in xrange(width):\n",
    "        for y in xrange(height):\n",
    "            if RD.random() < initProb:\n",
    "                state = tree\n",
    "            else:\n",
    "                state = empty\n",
    "            config[y, x] = state\n",
    "    config[height/2, width/2] = fire\n",
    "\n",
    "    nextConfig = SP.zeros([height, width])\n",
    "\n",
    "def draw():\n",
    "    PL.cla()\n",
    "    PL.pcolor(config, vmin = 0, vmax = 3, cmap = PL.cm.binary)\n",
    "    PL.axis('image')\n",
    "    PL.title('t = ' + str(time))\n",
    "\n",
    "def step():\n",
    "    global time, config, nextConfig\n",
    "\n",
    "    time += 1\n",
    "\n",
    "    for x in xrange(width):\n",
    "        for y in xrange(height):\n",
    "            state = config[y, x]\n",
    "            if state == fire:\n",
    "                state = char\n",
    "            elif state == tree:\n",
    "                for dx in xrange(-1, 2):\n",
    "                    for dy in xrange(-1, 2):\n",
    "                        if config[(y+dy)%height, (x+dx)%width] == fire:\n",
    "                            state = fire\n",
    "            nextConfig[y, x] = state\n",
    "\n",
    "    config, nextConfig = nextConfig, config\n",
    "\n",
    "\n",
    "\n",
    "#import pycxsimulator\n",
    "#pycxsimulator.GUI().start(func=[init,draw,step])\n",
    "\n",
    "num_array = range(0,11)\n",
    "p_array = []\n",
    "for _ in num_array:\n",
    "    p_array.append(_/10.)\n",
    "\n",
    "\n",
    "time_array =[]\n",
    "burn_array = []\n",
    "\n",
    "for p in p_array:\n",
    "    initProb = p\n",
    "    x_time = []\n",
    "    x_burn = []\n",
    "    for x in xrange(10):\n",
    "        init()\n",
    "        done = False\n",
    "        while not done:\n",
    "            #if time%10 == 0:\n",
    "                #print time\n",
    "            step()\n",
    "            if numpy.array_equal(config, nextConfig):\n",
    "                done = True\n",
    "        x_time.append(time)\n",
    "        x_burn.append(len(config[numpy.where(config == 3)]))\n",
    "    print \"complete!\"\n",
    "    \n",
    "    time_array.append(numpy.mean(x_time))\n",
    "    burn_array.append(numpy.mean(x_burn))\n",
    "print \"Done!\"\n",
    "        \n",
    "    \n",
    " \n",
    "\n",
    "\n",
    "\n"
   ]
  },
  {
   "cell_type": "code",
   "execution_count": 21,
   "metadata": {
    "collapsed": false
   },
   "outputs": [
    {
     "name": "stdout",
     "output_type": "stream",
     "text": [
      "[0, 1, 2, 3, 4, 5, 6, 7, 8, 9, 10]\n"
     ]
    },
    {
     "data": {
      "image/png": "[encoded data removed]",
      "text/plain": [
       "<matplotlib.figure.Figure at 0x103da1050>"
      ]
     },
     "metadata": {},
     "output_type": "display_data"
    }
   ],
   "source": [
    "%matplotlib inline \n",
    "\n",
    "x_arrays = range(0,11)\n",
    "print x_arrays\n",
    "\n",
    "\n",
    "PL.plot(x_arrays, burn_array)\n",
    "PL.show()"
   ]
  },
  {
   "cell_type": "code",
   "execution_count": 22,
   "metadata": {
    "collapsed": false
   },
   "outputs": [
    {
     "data": {
      "image/png": "[encoded data removed]",
      "text/plain": [
       "<matplotlib.figure.Figure at 0x10a42c2d0>"
      ]
     },
     "metadata": {},
     "output_type": "display_data"
    }
   ],
   "source": [
    "PL.plot(x_arrays, time_array)\n",
    "PL.show()"
   ]
  },
  {
   "cell_type": "code",
   "execution_count": 18,
   "metadata": {
    "collapsed": false
   },
   "outputs": [
    {
     "name": "stdout",
     "output_type": "stream",
     "text": [
      "[0.0, 0.1, 0.2, 0.3, 0.4, 0.5, 0.6, 0.7, 0.8, 0.9, 1.0]\n"
     ]
    }
   ],
   "source": [
    "\n",
    "num_array = range(0,11)\n",
    "p_array = []\n",
    "for _ in num_array:\n",
    "    p_array.append(_/10.)\n",
    "\n",
    "# For all p_array we have two plots\n",
    "# Plot 1: total burned area as function of p\n",
    "# Plot 2: plot the time until fire stops spreading as function of p\n",
    "# Plot 3: % of trees burned?\n",
    "print p_array"
   ]
  },
  {
   "cell_type": "code",
   "execution_count": 26,
   "metadata": {
    "collapsed": false
   },
   "outputs": [
    {
     "data": {
      "text/plain": [
       "3452"
      ]
     },
     "execution_count": 26,
     "metadata": {},
     "output_type": "execute_result"
    }
   ],
   "source": [
    "burned = config[numpy.where(config == 3)]\n",
    "len(burned)"
   ]
  },
  {
   "cell_type": "code",
   "execution_count": 29,
   "metadata": {
    "collapsed": false
   },
   "outputs": [
    {
     "name": "stdout",
     "output_type": "stream",
     "text": [
      "[inf, 0.0023, 0.0035, 0.015966666666666667, 0.391925, 0.98488, 0.9982666666666667, 0.9987142857142857, 1.0027625, 1.0006, 1.0]\n",
      "[0, 0.0023, 0.0035, 0.015966666666666667, 0.391925, 0.98488, 0.9982666666666667, 0.9987142857142857, 1.0027625, 1.0006, 1.0]\n"
     ]
    },
    {
     "name": "stderr",
     "output_type": "stream",
     "text": [
      "/Users/Isaac/anaconda/lib/python2.7/site-packages/ipykernel/__main__.py:9: RuntimeWarning: divide by zero encountered in double_scalars\n"
     ]
    },
    {
     "data": {
      "image/png": "[encoded data removed]",
      "text/plain": [
       "<matplotlib.figure.Figure at 0x1009e9ed0>"
      ]
     },
     "metadata": {},
     "output_type": "display_data"
    }
   ],
   "source": [
    "total_possible = 100*100\n",
    "trees_array = []\n",
    "for p in p_array:\n",
    "    trees_array.append(p*10000)\n",
    "\n",
    "percent_array = []\n",
    "\n",
    "# for i in x_arrays:\n",
    "#     percent_array.append(burn_array[i]/trees_array[i])\n",
    "\n",
    "# x_arrays = range(0,11)\n",
    "# print x_arrays\n",
    "print percent_array\n",
    "percent_array[0] = 0\n",
    "print percent_array\n",
    "\n",
    "\n",
    "\n",
    "PL.plot(x_arrays, percent_array)\n",
    "PL.show()"
   ]
  }
 ],
 "metadata": {
  "anaconda-cloud": {},
  "kernelspec": {
   "display_name": "Python [Root]",
   "language": "python",
   "name": "Python [Root]"
  },
  "language_info": {
   "codemirror_mode": {
    "name": "ipython",
    "version": 2
   },
   "file_extension": ".py",
   "mimetype": "text/x-python",
   "name": "python",
   "nbconvert_exporter": "python",
   "pygments_lexer": "ipython2",
   "version": "2.7.12"
  }
 },
 "nbformat": 4,
 "nbformat_minor": 0
}
