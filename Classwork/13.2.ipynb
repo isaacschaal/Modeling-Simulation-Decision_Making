{
 "cells": [
  {
   "cell_type": "code",
   "execution_count": 11,
   "metadata": {},
   "outputs": [
    {
     "data": {
      "image/png": "[encoded data removed]",
      "text/plain": [
       "<matplotlib.figure.Figure at 0x10a9a1588>"
      ]
     },
     "metadata": {},
     "output_type": "display_data"
    },
    {
     "name": "stdout",
     "output_type": "stream",
     "text": [
      "The 95% confidence interval for the gambling simulation is 504.35 to  578.50 .\n"
     ]
    }
   ],
   "source": [
    "import random\n",
    "import matplotlib.pyplot as plt\n",
    "import numpy as np\n",
    "\n",
    "repeats = 1000\n",
    "p = 0.6\n",
    "hist = []\n",
    "for _ in range(repeats):\n",
    "    wealth = 250\n",
    "    for i in range(20):\n",
    "        bet = wealth * .2\n",
    "        if random.random() < 0.6:\n",
    "            wealth += bet\n",
    "        else:\n",
    "            wealth -= bet\n",
    "    hist.append(wealth)\n",
    "plt.hist(hist)\n",
    "plt.show()\n",
    "# it is at 1000s above b/c i bet in ranges of 1000\n",
    "\n",
    "std = np.std(hist)\n",
    "mean = np.mean(hist)\n",
    "upper = mean + 1.96*std/np.sqrt(repeats)\n",
    "lower = mean - 1.96*std/np.sqrt(repeats)\n",
    "\n",
    "print (\"The 95% confidence interval for the gambling simulation is\", \"%.2f\" % round(lower,2), \"to \", \"%.2f\" % round(upper,2),\".\")"
   ]
  },
  {
   "cell_type": "code",
   "execution_count": 12,
   "metadata": {},
   "outputs": [
    {
     "data": {
      "text/plain": [
       "(504.28561824251523, 578.56607629752079)"
      ]
     },
     "execution_count": 12,
     "metadata": {},
     "output_type": "execute_result"
    }
   ],
   "source": []
  }
 ],
 "metadata": {
  "kernelspec": {
   "display_name": "Python 3",
   "language": "python",
   "name": "python3"
  },
  "language_info": {
   "codemirror_mode": {
    "name": "ipython",
    "version": 3
   },
   "file_extension": ".py",
   "mimetype": "text/x-python",
   "name": "python",
   "nbconvert_exporter": "python",
   "pygments_lexer": "ipython3",
   "version": "3.6.3"
  }
 },
 "nbformat": 4,
 "nbformat_minor": 2
}
