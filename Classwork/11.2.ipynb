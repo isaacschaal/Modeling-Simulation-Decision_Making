{
 "cells": [
  {
   "cell_type": "code",
   "execution_count": 57,
   "metadata": {},
   "outputs": [],
   "source": [
    "import numpy as np\n",
    "import random\n",
    "import math\n",
    "import matplotlib.pyplot as plt\n",
    "\n",
    "\n",
    "def initialize(depth):\n",
    "    array = np.array([[0]*depth]*depth)\n",
    "    for i in range(depth):\n",
    "        for j in range(depth):\n",
    "            array[i][j]=random.choice([-1,1])\n",
    "    return array\n",
    "\n",
    "def update(array, T):\n",
    "    depth = len(array)\n",
    "    i = random.choice(range(depth))\n",
    "    j = random.choice(range(depth))\n",
    "    val = 0\n",
    "    for h,k in [[-1,0],[1,0],[0,-1], [0,1]]:\n",
    "        val += array[(i+h)%depth][(j+k) %depth]\n",
    "    val = val * (-1) * array[i][j]\n",
    "    prob = min(1,math.exp(2*val/T))\n",
    "    if random.random()< prob:\n",
    "        array[i,j] = array[i,j]* (-1)\n",
    "\n",
    "    \n",
    "    \n"
   ]
  },
  {
   "cell_type": "code",
   "execution_count": 55,
   "metadata": {},
   "outputs": [
    {
     "name": "stdout",
     "output_type": "stream",
     "text": [
      "T =   1\n",
      "________\n",
      "[[-1 -1 -1 -1 -1 -1 -1 -1 -1 -1]\n",
      " [-1 -1 -1 -1 -1 -1 -1 -1 -1 -1]\n",
      " [-1 -1 -1 -1 -1 -1 -1 -1 -1 -1]\n",
      " [-1 -1 -1 -1 -1 -1 -1 -1 -1 -1]\n",
      " [-1 -1 -1 -1 -1 -1 -1 -1 -1 -1]\n",
      " [-1 -1 -1 -1 -1 -1 -1 -1 -1 -1]\n",
      " [-1 -1 -1 -1 -1 -1 -1 -1 -1 -1]\n",
      " [-1 -1 -1 -1 -1 -1 -1 -1 -1 -1]\n",
      " [-1 -1 -1 -1 -1 -1 -1 -1 -1 -1]\n",
      " [-1 -1 -1 -1 -1 -1 -1 -1 -1 -1]]\n",
      "\n",
      "T =   2\n",
      "________\n",
      "[[ 1  1  1  1  1  1  1 -1 -1  1]\n",
      " [ 1  1  1  1  1  1  1  1  1  1]\n",
      " [ 1  1  1  1  1  1  1  1  1  1]\n",
      " [ 1  1  1  1  1  1  1  1  1  1]\n",
      " [ 1  1  1  1  1  1  1  1  1  1]\n",
      " [ 1  1  1  1  1  1  1  1  1  1]\n",
      " [ 1  1  1  1  1  1  1  1  1  1]\n",
      " [ 1  1  1  1  1  1  1  1  1  1]\n",
      " [ 1  1  1  1  1  1  1  1  1  1]\n",
      " [ 1  1  1  1  1  1  1  1  1  1]]\n",
      "\n",
      "T =   3\n",
      "________\n",
      "[[-1 -1  1 -1 -1 -1 -1  1  1  1]\n",
      " [-1 -1  1  1 -1 -1 -1  1  1  1]\n",
      " [ 1  1  1  1  1  1  1  1  1  1]\n",
      " [ 1  1  1  1  1  1  1  1  1  1]\n",
      " [-1 -1 -1  1 -1  1  1  1  1  1]\n",
      " [ 1  1 -1 -1 -1  1  1  1  1  1]\n",
      " [ 1  1  1 -1  1  1 -1 -1  1  1]\n",
      " [ 1  1 -1 -1 -1  1  1  1  1  1]\n",
      " [ 1  1 -1 -1 -1  1  1 -1 -1  1]\n",
      " [-1 -1 -1 -1  1 -1 -1 -1  1  1]]\n",
      "\n",
      "T =   4\n",
      "________\n",
      "[[ 1 -1  1  1  1  1 -1 -1  1  1]\n",
      " [-1 -1 -1 -1 -1  1 -1 -1 -1 -1]\n",
      " [-1  1 -1 -1 -1 -1 -1 -1 -1  1]\n",
      " [-1  1  1  1 -1  1  1 -1 -1 -1]\n",
      " [ 1 -1  1  1  1  1  1 -1 -1 -1]\n",
      " [-1 -1  1  1  1  1  1 -1 -1  1]\n",
      " [-1 -1  1  1  1  1 -1  1  1  1]\n",
      " [ 1 -1  1  1  1 -1  1 -1 -1  1]\n",
      " [-1 -1 -1  1  1  1  1  1  1  1]\n",
      " [ 1 -1 -1  1  1  1  1 -1  1  1]]\n",
      "\n",
      "T =   5\n",
      "________\n",
      "[[-1  1  1 -1 -1 -1  1  1 -1 -1]\n",
      " [-1 -1  1 -1 -1  1  1  1 -1 -1]\n",
      " [-1 -1 -1  1 -1 -1  1 -1  1  1]\n",
      " [-1 -1  1 -1  1  1  1 -1 -1  1]\n",
      " [-1 -1  1  1  1  1  1 -1  1  1]\n",
      " [-1 -1  1  1  1  1  1  1  1  1]\n",
      " [-1 -1  1  1  1  1 -1 -1  1 -1]\n",
      " [-1 -1  1  1  1  1 -1 -1  1 -1]\n",
      " [-1  1 -1 -1  1  1 -1 -1 -1 -1]\n",
      " [-1  1 -1 -1  1  1  1  1 -1 -1]]\n",
      "\n"
     ]
    }
   ],
   "source": [
    "depth = 10    \n",
    "for T in range(1,6):\n",
    "    print (\"T =  \", T)\n",
    "    print (\"________\")\n",
    "    array = initialize(depth)\n",
    "    for i in range(100000):\n",
    "        update(array, T)\n",
    "\n",
    "    print (array)\n",
    "    print (\"\")"
   ]
  },
  {
   "cell_type": "code",
   "execution_count": 59,
   "metadata": {
    "scrolled": false
   },
   "outputs": [
    {
     "name": "stdout",
     "output_type": "stream",
     "text": [
      "T =   1\n",
      "________\n"
     ]
    },
    {
     "data": {
      "image/png": "[encoded data removed]",
      "text/plain": [
       "<matplotlib.figure.Figure at 0x10c7b3a20>"
      ]
     },
     "metadata": {},
     "output_type": "display_data"
    },
    {
     "data": {
      "image/png": "[encoded data removed]",
      "text/plain": [
       "<matplotlib.figure.Figure at 0x1138c9b00>"
      ]
     },
     "metadata": {},
     "output_type": "display_data"
    },
    {
     "name": "stdout",
     "output_type": "stream",
     "text": [
      "T =   2\n",
      "________\n"
     ]
    },
    {
     "data": {
      "image/png": "[encoded data removed]",
      "text/plain": [
       "<matplotlib.figure.Figure at 0x11395d8d0>"
      ]
     },
     "metadata": {},
     "output_type": "display_data"
    },
    {
     "name": "stdout",
     "output_type": "stream",
     "text": [
      "T =   3\n",
      "________\n"
     ]
    },
    {
     "data": {
      "image/png": "[encoded data removed]",
      "text/plain": [
       "<matplotlib.figure.Figure at 0x116d6ad30>"
      ]
     },
     "metadata": {},
     "output_type": "display_data"
    },
    {
     "name": "stdout",
     "output_type": "stream",
     "text": [
      "T =   4\n",
      "________\n"
     ]
    },
    {
     "data": {
      "image/png": "[encoded data removed]",
      "text/plain": [
       "<matplotlib.figure.Figure at 0x116e4d978>"
      ]
     },
     "metadata": {},
     "output_type": "display_data"
    },
    {
     "name": "stdout",
     "output_type": "stream",
     "text": [
      "T =   5\n",
      "________\n"
     ]
    },
    {
     "data": {
      "image/png": "[encoded data removed]",
      "text/plain": [
       "<matplotlib.figure.Figure at 0x116f0cba8>"
      ]
     },
     "metadata": {},
     "output_type": "display_data"
    }
   ],
   "source": [
    "depth = 10    \n",
    "repeats = 100\n",
    "for T in range(1,6):\n",
    "    print (\"T =  \", T)\n",
    "    print (\"________\")\n",
    "    repeat_list = []\n",
    "    for i in range(repeats):\n",
    "        \n",
    "        array = initialize(depth)\n",
    "        for i in range(100000):\n",
    "            update(array, T)\n",
    "        val = 0\n",
    "        for i in range(depth):\n",
    "            for j in range(depth):\n",
    "                val += array[i][j]\n",
    "        val = val / len(array)*depth\n",
    "        repeat_list.append(val)\n",
    "    plt.figure()\n",
    "    plt.hist(repeat_list)\n",
    "    plt.show()\n",
    "                \n",
    "\n",
    "    \n"
   ]
  }
 ],
 "metadata": {
  "kernelspec": {
   "display_name": "Python 3",
   "language": "python",
   "name": "python3"
  },
  "language_info": {
   "codemirror_mode": {
    "name": "ipython",
    "version": 3
   },
   "file_extension": ".py",
   "mimetype": "text/x-python",
   "name": "python",
   "nbconvert_exporter": "python",
   "pygments_lexer": "ipython3",
   "version": "3.6.3"
  }
 },
 "nbformat": 4,
 "nbformat_minor": 2
}
