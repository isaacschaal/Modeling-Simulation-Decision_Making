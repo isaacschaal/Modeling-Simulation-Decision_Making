{
 "cells": [
  {
   "cell_type": "code",
   "execution_count": 41,
   "metadata": {},
   "outputs": [],
   "source": [
    "#Do excercise 18.5\n",
    "    #turn it from asynchronous from 16.6 to make it synchronous\n",
    "    # so instead of randomally selecting, loop through\n",
    "    \n",
    "# Modify Code 16.6 to implement a synchronous, \n",
    "# simultaneous updating version of the network SIS model.\n",
    "# Then simulate its dynamics on an Erdo ̋s-Re ́nyi random \n",
    "# network for the following parameter settings:\n",
    "# • n=100,pe =0.1,pi =0.5,pr =0.5(pr <(n−1)pepi)\n",
    "# • n=100,pe =0.1,pi =0.04,pr =0.5(pr >(n−1)pepi) \n",
    "# • n=200,pe =0.1,pi =0.04,pr =0.5(pr <(n−1)pepi) \n",
    "# • n=200,pe =0.05,pi =0.04,pr =0.5(pr >(n−1)pepi)\n",
    "# Discuss how the results compare to the predictions \n",
    "# made by the mean-field ap- proximation.\n",
    "    \n",
    "import matplotlib\n",
    "#matplotlib.use('TkAgg')\n",
    "from pylab import *\n",
    "import networkx as nx\n",
    "import random as rd\n",
    "\n",
    "n = 100\n",
    "pe = 0.1\n",
    "p_i = 0.5\n",
    "p_r = 0.5\n",
    "\n",
    "def initialize():\n",
    "    global g,nextg\n",
    "    g = nx.erdos_renyi_graph(n, pe)\n",
    "    g.pos = nx.spring_layout(g)\n",
    "    for i in g.nodes:\n",
    "        g.nodes[i]['state'] = 1 if random() < .5 else 0\n",
    "    nextg = nx.erdos_renyi_graph(n, pe)\n",
    "    \n",
    "def observe():\n",
    "    global g,nextg\n",
    "    cla()\n",
    "    nx.draw(g, vmin = 0, vmax = 1,\n",
    "            node_color = [g.nodes[i]['state'] for i in g.nodes],\n",
    "            pos = g.pos)\n",
    "    \n",
    "# p_i = 0.5 # infection probability\n",
    "# p_r = 0.5 # recovery probability\n",
    "\n",
    "def update():\n",
    "    global g, nextg\n",
    "    for a in g.nodes:\n",
    "        if g.nodes[a]['state'] == 0: # if susceptible\n",
    "            b = rd.choice(list(g.neighbors(a)))\n",
    "            if g.nodes[b]['state'] == 1: # if neighbor b is infected\n",
    "                nextg.nodes[a]['state'] = 1 if random() < p_i else 0\n",
    "        else: # if infected\n",
    "            nextg.nodes[a]['state'] = 0 if random() < p_r else 1\n",
    "    g, nextg = nextg, g\n",
    "\n",
    "\n",
    "\n",
    "\n",
    "initialize()\n",
    "\n",
    "\n"
   ]
  },
  {
   "cell_type": "markdown",
   "metadata": {},
   "source": [
    "B. Why does using synchronous or asynchronous updating make a difference\n",
    "\n",
    "C. Why use the synchronous?"
   ]
  },
  {
   "cell_type": "code",
   "execution_count": 43,
   "metadata": {},
   "outputs": [
    {
     "name": "stdout",
     "output_type": "stream",
     "text": [
      "40.456\n",
      "40.0\n",
      "39.2\n",
      "41.44705358908444\n",
      "40.493\n",
      "61.96408163265306\n"
     ]
    }
   ],
   "source": [
    "import matplotlib.pyplot as plt\n",
    "from networkx import nx\n",
    "\n",
    "#ER - random selection of edges being present\n",
    "#WS - joined with X nearest neighbors in ring, then random switch\n",
    "#BA - add node connected to X other nodes\n",
    "\n",
    "# Generate the 3 random graphs with the nodes\n",
    "\n",
    "n = 1000   #number of nodes\n",
    "er_thing = 0.04   #number of edges\n",
    "k = 40  # joined with k nearest neighbors\n",
    "ba_thing = 20   #each node is connected to X others when created\n",
    "\n",
    "\n",
    "G_er = nx.erdos_renyi_graph(n, er_thing)\n",
    "G_ws = nx.watts_strogatz_graph(n,k,1)\n",
    "G_ba = nx.barabasi_albert_graph(n,ba_thing)\n",
    "\n",
    "\n",
    "#Check that the avg degree is 40\n",
    "def avg_degree(G):\n",
    "    deg = 0\n",
    "    for node in G.nodes:\n",
    "        deg += G.degree(node)\n",
    "    return deg / float(len(G.nodes))\n",
    "\n",
    "print (avg_degree(G_er))\n",
    "print (avg_degree(G_ws))\n",
    "print (avg_degree(G_ba))\n",
    "\n",
    "def avg_neighbor_degree(G):\n",
    "    deg = 0\n",
    "    for edge in G.edges:\n",
    "        for i in range(2):\n",
    "            deg += G.degree(edge[i])\n",
    "    return deg / float(2*len(G.edges))\n",
    "        \n",
    "print (avg_neighbor_degree(G_er))\n",
    "print (avg_neighbor_degree(G_ws))\n",
    "print (avg_neighbor_degree(G_ba))"
   ]
  },
  {
   "cell_type": "markdown",
   "metadata": {},
   "source": [
    "Question: How does the average degree of neighbors (the number of friends of your friends) compare to the average degree of the graph (your number of friends)?\n",
    "\n",
    "Answer: Its interesting, for the first two graphs (ER and WS) it is slightly higher... this is counterinutitive b/c everynode has the same degree, so hard to understand why neighbors have more\n",
    "\n",
    "For the BA, it makes more sense as there is variability in degree, and thus the higher degree nodes are neighbors more often"
   ]
  }
 ],
 "metadata": {
  "kernelspec": {
   "display_name": "Python 3",
   "language": "python",
   "name": "python3"
  },
  "language_info": {
   "codemirror_mode": {
    "name": "ipython",
    "version": 3
   },
   "file_extension": ".py",
   "mimetype": "text/x-python",
   "name": "python",
   "nbconvert_exporter": "python",
   "pygments_lexer": "ipython3",
   "version": "3.6.3"
  }
 },
 "nbformat": 4,
 "nbformat_minor": 2
}
