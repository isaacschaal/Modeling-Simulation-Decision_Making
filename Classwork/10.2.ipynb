{
 "cells": [
  {
   "cell_type": "code",
   "execution_count": 193,
   "metadata": {},
   "outputs": [
    {
     "name": "stdout",
     "output_type": "stream",
     "text": [
      "3\n"
     ]
    }
   ],
   "source": [
    "import scipy\n",
    "\n",
    "\n",
    "x = [0.8,0.6,0.4, 2.0]\n",
    "x = [.210,.1579,.10526, .526 ]\n",
    "p = scipy.cumsum(x)\n",
    "sample = p.searchsorted(scipy.random.uniform(0,1))\n",
    "\n",
    "print (sample)"
   ]
  },
  {
   "cell_type": "code",
   "execution_count": 175,
   "metadata": {},
   "outputs": [
    {
     "data": {
      "text/plain": [
       "0.5263157894736842"
      ]
     },
     "execution_count": 175,
     "metadata": {},
     "output_type": "execute_result"
    }
   ],
   "source": [
    "2/ 3.8"
   ]
  },
  {
   "cell_type": "markdown",
   "metadata": {},
   "source": [
    "(4) (Sampling bias for bus waiting times) Suppose the interarrival time for a city bus has an exponential distribution with parameter 1/λ. A pas- senger arrives at a uniformly random time and records the time until the next bus arrives. What is the expected waiting time? Use a simulation to get an answer. Is the answer surprising? Now suppose instead that the interarrival time is U (0, 2λ). How does this change the situation? (Notice that the expected interarrival time is λ in both cases.)\n",
    "\n",
    "\n",
    "Note that there are 2 common, equivalent parameterizations of the exponential distribution.\n",
    "○ \n",
    "\n",
    "Exponential(x | λ) = λ e –λx. This is used in Shonkwiler & Mendivil.\n",
    "○ \n",
    "\n",
    "Exponential(x | β) = β –1 e –x / β. This is used in Scipy. \n",
    "\n",
    "\n",
    "So if you import scipy and\n",
    "generate exponentially distributed random values using scipy.random.exponential(beta), you should use β = λ–1.\n",
    "This is an example of a difficult to compute value (the expected waiting time under two different distributions) with a counterintuitive result that be can simulated fairly easily."
   ]
  },
  {
   "cell_type": "code",
   "execution_count": 253,
   "metadata": {},
   "outputs": [
    {
     "name": "stdout",
     "output_type": "stream",
     "text": [
      "4.37229078433\n"
     ]
    }
   ],
   "source": [
    "import scipy\n",
    "import numpy as np\n",
    "import random\n",
    "\n",
    "time_frame = 1000\n",
    "alpha = 5\n",
    "beta = alpha -1\n",
    "\n",
    "passengers = []\n",
    "for _ in range(10000):\n",
    "    passengers.append(scipy.random.uniform(time_frame))\n",
    "passengers = sorted(passengers)\n",
    "buses = [0]\n",
    "\n",
    "while buses[-1] < time_frame:\n",
    "    buses.append(scipy.random.exponential(beta)+buses[-1])\n",
    "buses = np.array(buses[1:])\n",
    "\n",
    "avg_time = []\n",
    "for p in passengers:\n",
    "    my_bus = buses[np.where(buses > p)[0][0]]\n",
    "    avg_time.append(my_bus - p)\n",
    "\n",
    "print (np.mean(avg_time) )   \n"
   ]
  },
  {
   "cell_type": "markdown",
   "metadata": {},
   "source": [
    "(5) (Retirement benefit projection) At age 50 Fannie Mae has 150,000 invested and will be investing another 10,000 per year until age 70. Each year the investment grows according to an interest rate that is normally distributed with mean 8% and standard deviation 9%. At age 70, Fannie Mae then retires and withdraws 65,000 per year until death. Below is given a conditional death probability table. Thus if Fannie Mae lives until age 70, then the probability of dying before age 71 is 0.04979. Simulate this process 1000 times and histogram the amount of money Fannie Mae has at death."
   ]
  },
  {
   "cell_type": "code",
   "execution_count": 197,
   "metadata": {},
   "outputs": [],
   "source": [
    "money = []\n",
    "for x in range(1000):\n",
    "\n",
    "    age = 50\n",
    "    invested = 150000\n",
    "\n",
    "    dead = False\n",
    "    while not dead:\n",
    "        if age< 70:\n",
    "            invested += 10000\n",
    "        invested = invested + invested * (np.random.normal(0.08, 0.09))\n",
    "        if age >= 70:\n",
    "            invested -= 65000\n",
    "        if random.random() < data[age]:\n",
    "            dead = True\n",
    "        age +=1\n",
    "        \n",
    "    money.append(invested)\n",
    "\n"
   ]
  },
  {
   "cell_type": "code",
   "execution_count": 201,
   "metadata": {},
   "outputs": [
    {
     "data": {
      "image/png": "[encoded data removed]",
      "text/plain": [
       "<matplotlib.figure.Figure at 0x10cc0c7b8>"
      ]
     },
     "metadata": {},
     "output_type": "display_data"
    }
   ],
   "source": [
    "plt.hist(money, bins = 30)\n",
    "plt.show()"
   ]
  },
  {
   "cell_type": "code",
   "execution_count": 144,
   "metadata": {},
   "outputs": [],
   "source": [
    "import matplotlib.pyplot as plt"
   ]
  },
  {
   "cell_type": "code",
   "execution_count": 97,
   "metadata": {
    "collapsed": true
   },
   "outputs": [],
   "source": [
    "data = {\n",
    "    50: 0.00832,\n",
    "    51: 0.00911,\n",
    "    52: 0.00996,\n",
    "    53: 0.01089,\n",
    "    54: 0.01190,\n",
    "    55: 0.01300,\n",
    "    56: 0.01421,\n",
    "    57: 0.01554,\n",
    "    58: 0.01700,\n",
    "    59: 0.01859,\n",
    "    60: 0.02034,\n",
    "    61: 0.02224,\n",
    "    62: 0.02431,\n",
    "    63: 0.02657,\n",
    "    64: 0.02904,\n",
    "    65: 0.03175,\n",
    "    66: 0.03474,\n",
    "    67: 0.03804,\n",
    "    68: 0.04168,\n",
    "    69: 0.04561,\n",
    "    70: 0.04979,\n",
    "    71: 0.05415,\n",
    "    72: 0.05865,\n",
    "    73: 0.06326,\n",
    "    74: 0.06812,\n",
    "    75: 0.07337,\n",
    "    76: 0.07918,\n",
    "    77: 0.08570,\n",
    "    78: 0.09306,\n",
    "    79: 0.10119,\n",
    "    80: 0.10998,\n",
    "    81: 0.11935,\n",
    "    82: 0.12917,\n",
    "    83: 0.13938,\n",
    "    84: 0.15001,\n",
    "    85: 0.16114,\n",
    "    86: 0.17282,\n",
    "    87: 0.18513,\n",
    "    88: 0.19825,\n",
    "    89: 0.21246,\n",
    "    90: 0.22814,\n",
    "    91: 0.24577,\n",
    "    92: 0.26593,\n",
    "    93: 0.28930,\n",
    "    94: 0.31666,\n",
    "    95: 0.35124,\n",
    "    96: 0.40056,\n",
    "    97: 0.48842,\n",
    "    98: 0.66815,\n",
    "    99: 0.72000,\n",
    "    100: 0.76000,\n",
    "    101: 0.80000,\n",
    "    102: 0.85000,\n",
    "    103: 0.90000,\n",
    "    104: 0.96000,\n",
    "    105: 1.00000}"
   ]
  }
 ],
 "metadata": {
  "kernelspec": {
   "display_name": "Python 3",
   "language": "python",
   "name": "python3"
  },
  "language_info": {
   "codemirror_mode": {
    "name": "ipython",
    "version": 3
   },
   "file_extension": ".py",
   "mimetype": "text/x-python",
   "name": "python",
   "nbconvert_exporter": "python",
   "pygments_lexer": "ipython3",
   "version": "3.6.3"
  }
 },
 "nbformat": 4,
 "nbformat_minor": 2
}
