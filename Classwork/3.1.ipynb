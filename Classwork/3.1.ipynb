{
 "cells": [
  {
   "cell_type": "code",
   "execution_count": 20,
   "metadata": {
    "collapsed": false
   },
   "outputs": [
    {
     "name": "stdout",
     "output_type": "stream",
     "text": [
      "[1.0, 0.0, 0.0, 0.0, 0.0, 0.0, 0.0, 0.0, 0.0, 0.0, 0.0, 0.0, 0.0, 0.0, 0.0, 0.0, 0.0, 0.0, 0.0, 0.0, 0.0, 0.0, 0.0, 0.0, 0.0, 0.0, 0.0, 0.0, 0.0, 0.0, 0.0]\n"
     ]
    },
    {
     "data": {
      "image/png": "[encoded data removed]",
      "text/plain": [
       "<matplotlib.figure.Figure at 0x109fe96d0>"
      ]
     },
     "metadata": {},
     "output_type": "display_data"
    }
   ],
   "source": [
    "from pylab import *\n",
    "% matplotlib inline \n",
    "\n",
    "def initialize():\n",
    "    global x, result\n",
    "    x = 1.\n",
    "    result = [x]\n",
    "\n",
    "def observe():\n",
    "    global x, result\n",
    "    result.append(x)\n",
    "    \n",
    "def f(p): ### iterative map is now defined as f(x)\n",
    "    return 28*p**9 - 224*p**8 + 700*p**7 - 1120*p**6 + 980*p**5 - 448*p**4 + 84*p**3\n",
    "\n",
    "\n",
    "def update():\n",
    "    global x, result\n",
    "    x = f(x)\n",
    "    \n",
    "initialize()\n",
    "for t in xrange(30):\n",
    "    update()\n",
    "    observe() \n",
    "        \n",
    "### drawing diagonal line\n",
    "xmin, xmax = 0, 1\n",
    "plot([xmin, xmax], [xmin, xmax], 'k')\n",
    "### drawing curve\n",
    "rng = arange(xmin, xmax, (xmax - xmin) / 100.)\n",
    "\n",
    "plot(rng, map(f, rng), 'k')\n",
    "\n",
    "### drawing trajectory\n",
    "print result\n",
    "horizontal = [result[0]]\n",
    "vertical = [result[0]]\n",
    "\n",
    "for x in result[1:]:\n",
    "    horizontal.append(vertical[-1])\n",
    "    vertical.append(x)\n",
    "    horizontal.append(x)\n",
    "    vertical.append(x)\n",
    "plot(horizontal, vertical, 'b')\n",
    "\n",
    "show() \n"
   ]
  }
 ],
 "metadata": {
  "anaconda-cloud": {},
  "kernelspec": {
   "display_name": "Python [Root]",
   "language": "python",
   "name": "Python [Root]"
  },
  "language_info": {
   "codemirror_mode": {
    "name": "ipython",
    "version": 2
   },
   "file_extension": ".py",
   "mimetype": "text/x-python",
   "name": "python",
   "nbconvert_exporter": "python",
   "pygments_lexer": "ipython2",
   "version": "2.7.12"
  }
 },
 "nbformat": 4,
 "nbformat_minor": 0
}
