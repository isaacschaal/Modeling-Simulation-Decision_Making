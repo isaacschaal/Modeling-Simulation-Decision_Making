{
 "cells": [
  {
   "cell_type": "code",
   "execution_count": 1,
   "metadata": {
    "collapsed": false
   },
   "outputs": [
    {
     "name": "stdout",
     "output_type": "stream",
     "text": [
      "101\n",
      "Hey! My name is Isaac, I am 21 years old, and I am from Clarion, PA. I currently live in room number 101.\n"
     ]
    }
   ],
   "source": [
    "import webbrowser\n",
    "\n",
    "# webbrowser.open('http://example.com')  # Go to example.com\n",
    "\n",
    "class Person(object):\n",
    "    \n",
    "    def __init__(self, name, age, PoB, room_number ):\n",
    "        self.name = name\n",
    "        self.age = age\n",
    "        self.PoB = PoB\n",
    "        self.room_number = room_number\n",
    "        \n",
    "    def move_rooms(self, new_room):\n",
    "        # moves from old room to new room\n",
    "        self.room_number = new_room\n",
    "    \n",
    "    def birthday(self):\n",
    "        self.age +=1\n",
    "        \n",
    "    def google_me_and_keyword(self, keyword):\n",
    "        webbrowser.open('http://lmgtfy.com/?t=i&q=%s+%s' % (self.name, keyword))\n",
    "    \n",
    "    def introduce(self):\n",
    "        print \"Hey! My name is %s, I am %d years old, and I am from %s. I currently live in room number %d.\" % (self.name, self.age, self.PoB, self.room_number)\n",
    "\n",
    "\n",
    "    \n",
    "isaac = Person(\"Isaac\",20,\"Clarion, PA\", 407)\n",
    "\n",
    "#isaac.google_me_and_keyword(\"dance\")\n",
    "isaac.move_rooms(101)\n",
    "isaac.birthday()\n",
    "\n",
    "print isaac.room_number\n",
    "\n",
    "isaac.introduce()"
   ]
  }
 ],
 "metadata": {
  "anaconda-cloud": {},
  "kernelspec": {
   "display_name": "Python [Root]",
   "language": "python",
   "name": "Python [Root]"
  },
  "language_info": {
   "codemirror_mode": {
    "name": "ipython",
    "version": 2
   },
   "file_extension": ".py",
   "mimetype": "text/x-python",
   "name": "python",
   "nbconvert_exporter": "python",
   "pygments_lexer": "ipython2",
   "version": "2.7.12"
  }
 },
 "nbformat": 4,
 "nbformat_minor": 0
}
